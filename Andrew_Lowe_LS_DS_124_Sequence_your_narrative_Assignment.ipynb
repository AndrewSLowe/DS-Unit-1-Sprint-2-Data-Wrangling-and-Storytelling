{
  "nbformat": 4,
  "nbformat_minor": 0,
  "metadata": {
    "colab": {
      "name": "Andrew Lowe--LS_DS_124_Sequence_your_narrative_Assignment.ipynb",
      "version": "0.3.2",
      "provenance": [],
      "collapsed_sections": [],
      "include_colab_link": true
    },
    "kernelspec": {
      "display_name": "Python 3",
      "language": "python",
      "name": "python3"
    },
    "language_info": {
      "codemirror_mode": {
        "name": "ipython",
        "version": 3
      },
      "file_extension": ".py",
      "mimetype": "text/x-python",
      "name": "python",
      "nbconvert_exporter": "python",
      "pygments_lexer": "ipython3",
      "version": "3.7.1"
    }
  },
  "cells": [
    {
      "cell_type": "markdown",
      "metadata": {
        "id": "view-in-github",
        "colab_type": "text"
      },
      "source": [
        "<a href=\"https://colab.research.google.com/github/AndrewSLowe/DS-Unit-1-Sprint-2-Data-Wrangling-and-Storytelling/blob/master/Andrew_Lowe_LS_DS_124_Sequence_your_narrative_Assignment.ipynb\" target=\"_parent\"><img src=\"https://colab.research.google.com/assets/colab-badge.svg\" alt=\"Open In Colab\"/></a>"
      ]
    },
    {
      "cell_type": "markdown",
      "metadata": {
        "colab_type": "text",
        "id": "JbDHnhet8CWy"
      },
      "source": [
        "_Lambda School Data Science_\n",
        "\n",
        "# Sequence Your Narrative - Assignment\n",
        "\n",
        "Today we will create a sequence of visualizations inspired by [Hans Rosling's 200 Countries, 200 Years, 4 Minutes](https://www.youtube.com/watch?v=jbkSRLYSojo).\n",
        "\n",
        "Using this [data from Gapminder](https://github.com/open-numbers/ddf--gapminder--systema_globalis/):\n",
        "- [Income Per Person (GDP Per Capital, Inflation Adjusted) by Geo & Time](https://raw.githubusercontent.com/open-numbers/ddf--gapminder--systema_globalis/master/ddf--datapoints--income_per_person_gdppercapita_ppp_inflation_adjusted--by--geo--time.csv)\n",
        "- [Life Expectancy (in Years) by Geo & Time](https://raw.githubusercontent.com/open-numbers/ddf--gapminder--systema_globalis/master/ddf--datapoints--life_expectancy_years--by--geo--time.csv)\n",
        "- [Population Totals, by Geo & Time](https://raw.githubusercontent.com/open-numbers/ddf--gapminder--systema_globalis/master/ddf--datapoints--population_total--by--geo--time.csv)\n",
        "- [Entities](https://raw.githubusercontent.com/open-numbers/ddf--gapminder--systema_globalis/master/ddf--entities--geo--country.csv)\n",
        "- [Concepts](https://raw.githubusercontent.com/open-numbers/ddf--gapminder--systema_globalis/master/ddf--concepts.csv)"
      ]
    },
    {
      "cell_type": "markdown",
      "metadata": {
        "colab_type": "text",
        "id": "zyPYtsY6HtIK"
      },
      "source": [
        "Objectives\n",
        "- sequence multiple visualizations\n",
        "- combine qualitative anecdotes with quantitative aggregates\n",
        "\n",
        "Links\n",
        "- [Hans Rosling’s TED talks](https://www.ted.com/speakers/hans_rosling)\n",
        "- [Spiralling global temperatures from 1850-2016](https://twitter.com/ed_hawkins/status/729753441459945474)\n",
        "- \"[The Pudding](https://pudding.cool/) explains ideas debated in culture with visual essays.\"\n",
        "- [A Data Point Walks Into a Bar](https://lisacharlotterost.github.io/2016/12/27/datapoint-in-bar/): a thoughtful blog post about emotion and empathy in data storytelling"
      ]
    },
    {
      "cell_type": "markdown",
      "metadata": {
        "colab_type": "text",
        "id": "_R1bj8aXzyVA"
      },
      "source": [
        "# ASSIGNMENT\n",
        " \n",
        "\n",
        "1.   Replicate the Lesson Code\n",
        "2.   Take it further by using the same gapminder dataset to create a sequence of visualizations that combined tell a story of your choosing.\n",
        "\n",
        "Get creative! Use text annotations to call out specific countries, maybe: change how the points are colored, change the opacity of the points, change their sized, pick a specific time window. Maybe only work with a subset of countries, change fonts, change background colors, etc. make it your own!"
      ]
    },
    {
      "cell_type": "code",
      "metadata": {
        "id": "EEojGBed-t6i",
        "colab_type": "code",
        "outputId": "64e01673-bafa-49c9-ca8d-bc65002d3249",
        "colab": {
          "base_uri": "https://localhost:8080/",
          "height": 241
        }
      },
      "source": [
        "!pip install --upgrade seaborn"
      ],
      "execution_count": 0,
      "outputs": [
        {
          "output_type": "stream",
          "text": [
            "Requirement already up-to-date: seaborn in /usr/local/lib/python3.6/dist-packages (0.9.0)\n",
            "Requirement already satisfied, skipping upgrade: pandas>=0.15.2 in /usr/local/lib/python3.6/dist-packages (from seaborn) (0.24.2)\n",
            "Requirement already satisfied, skipping upgrade: matplotlib>=1.4.3 in /usr/local/lib/python3.6/dist-packages (from seaborn) (3.0.3)\n",
            "Requirement already satisfied, skipping upgrade: scipy>=0.14.0 in /usr/local/lib/python3.6/dist-packages (from seaborn) (1.3.1)\n",
            "Requirement already satisfied, skipping upgrade: numpy>=1.9.3 in /usr/local/lib/python3.6/dist-packages (from seaborn) (1.16.5)\n",
            "Requirement already satisfied, skipping upgrade: pytz>=2011k in /usr/local/lib/python3.6/dist-packages (from pandas>=0.15.2->seaborn) (2018.9)\n",
            "Requirement already satisfied, skipping upgrade: python-dateutil>=2.5.0 in /usr/local/lib/python3.6/dist-packages (from pandas>=0.15.2->seaborn) (2.5.3)\n",
            "Requirement already satisfied, skipping upgrade: cycler>=0.10 in /usr/local/lib/python3.6/dist-packages (from matplotlib>=1.4.3->seaborn) (0.10.0)\n",
            "Requirement already satisfied, skipping upgrade: pyparsing!=2.0.4,!=2.1.2,!=2.1.6,>=2.0.1 in /usr/local/lib/python3.6/dist-packages (from matplotlib>=1.4.3->seaborn) (2.4.2)\n",
            "Requirement already satisfied, skipping upgrade: kiwisolver>=1.0.1 in /usr/local/lib/python3.6/dist-packages (from matplotlib>=1.4.3->seaborn) (1.1.0)\n",
            "Requirement already satisfied, skipping upgrade: six>=1.5 in /usr/local/lib/python3.6/dist-packages (from python-dateutil>=2.5.0->pandas>=0.15.2->seaborn) (1.12.0)\n",
            "Requirement already satisfied, skipping upgrade: setuptools in /usr/local/lib/python3.6/dist-packages (from kiwisolver>=1.0.1->matplotlib>=1.4.3->seaborn) (41.2.0)\n"
          ],
          "name": "stdout"
        }
      ]
    },
    {
      "cell_type": "code",
      "metadata": {
        "id": "RLZTbsyR-wzf",
        "colab_type": "code",
        "outputId": "a040d306-7def-49d8-a7eb-f686882cfe93",
        "colab": {
          "base_uri": "https://localhost:8080/",
          "height": 34
        }
      },
      "source": [
        "import seaborn as sns\n",
        "sns.__version__"
      ],
      "execution_count": 0,
      "outputs": [
        {
          "output_type": "execute_result",
          "data": {
            "text/plain": [
              "'0.9.0'"
            ]
          },
          "metadata": {
            "tags": []
          },
          "execution_count": 2
        }
      ]
    },
    {
      "cell_type": "code",
      "metadata": {
        "id": "UpZDhk4q-zZf",
        "colab_type": "code",
        "colab": {}
      },
      "source": [
        "%matplotlib inline                 \n",
        "import matplotlib.pyplot as plt\n",
        "import numpy as np\n",
        "import pandas as pd"
      ],
      "execution_count": 0,
      "outputs": []
    },
    {
      "cell_type": "code",
      "metadata": {
        "id": "gBE_yQRk3pYZ",
        "colab_type": "code",
        "colab": {}
      },
      "source": [
        "income = pd.read_csv('https://raw.githubusercontent.com/open-numbers/ddf--gapminder--systema_globalis/master/ddf--datapoints--income_per_person_gdppercapita_ppp_inflation_adjusted--by--geo--time.csv')"
      ],
      "execution_count": 0,
      "outputs": []
    },
    {
      "cell_type": "code",
      "metadata": {
        "id": "0DjMW6HH-45q",
        "colab_type": "code",
        "colab": {}
      },
      "source": [
        "lifespan = pd.read_csv('https://raw.githubusercontent.com/open-numbers/ddf--gapminder--systema_globalis/master/ddf--datapoints--life_expectancy_years--by--geo--time.csv')"
      ],
      "execution_count": 0,
      "outputs": []
    },
    {
      "cell_type": "code",
      "metadata": {
        "id": "O_aOjruX-43B",
        "colab_type": "code",
        "colab": {}
      },
      "source": [
        "population = pd.read_csv('https://raw.githubusercontent.com/open-numbers/ddf--gapminder--systema_globalis/master/ddf--datapoints--population_total--by--geo--time.csv')"
      ],
      "execution_count": 0,
      "outputs": []
    },
    {
      "cell_type": "code",
      "metadata": {
        "id": "Lh-wofpv-40S",
        "colab_type": "code",
        "colab": {}
      },
      "source": [
        "entities = pd.read_csv('https://raw.githubusercontent.com/open-numbers/ddf--gapminder--systema_globalis/master/ddf--entities--geo--country.csv')"
      ],
      "execution_count": 0,
      "outputs": []
    },
    {
      "cell_type": "code",
      "metadata": {
        "id": "-2YEuMVI-4xg",
        "colab_type": "code",
        "colab": {}
      },
      "source": [
        "concepts = pd.read_csv('https://raw.githubusercontent.com/open-numbers/ddf--gapminder--systema_globalis/master/ddf--concepts.csv')"
      ],
      "execution_count": 0,
      "outputs": []
    },
    {
      "cell_type": "code",
      "metadata": {
        "id": "5MNOvMfA-4kp",
        "colab_type": "code",
        "outputId": "38a45c34-3428-410f-8746-7be30b9245ac",
        "colab": {
          "base_uri": "https://localhost:8080/",
          "height": 34
        }
      },
      "source": [
        "income.shape, lifespan.shape, population.shape, entities.shape, concepts.shape         #First three only have 3 columns?"
      ],
      "execution_count": 0,
      "outputs": [
        {
          "output_type": "execute_result",
          "data": {
            "text/plain": [
              "((46513, 3), (44370, 3), (59297, 3), (273, 33), (590, 16))"
            ]
          },
          "metadata": {
            "tags": []
          },
          "execution_count": 9
        }
      ]
    },
    {
      "cell_type": "code",
      "metadata": {
        "id": "gGsIz-ie_BAL",
        "colab_type": "code",
        "colab": {}
      },
      "source": [
        "merged = pd.merge(income, lifespan)\n",
        "df = pd.merge (merged, population)\n",
        "df = pd.merge(df, entities[['country', 'name', 'world_4region', \n",
        "                            'world_6region']], left_on = \n",
        "              'geo', right_on='country')\n",
        "df = df.rename(columns = {\n",
        "   'country': 'country_code',\n",
        "   'time': 'year',\n",
        "   'income_per_person_gdppercapita_ppp_inflation_adjusted': 'income',\n",
        "   'life_expectancy_years': 'lifespan',\n",
        "   'population_total': 'population',\n",
        "   'name': 'country',\n",
        "   'world_6region': '6region',\n",
        "   'world_4region': '4region'\n",
        "})"
      ],
      "execution_count": 0,
      "outputs": []
    },
    {
      "cell_type": "code",
      "metadata": {
        "id": "QaMH2LuZ_A9M",
        "colab_type": "code",
        "outputId": "c9b8f38d-bee4-4d9d-c9ca-821281cd0679",
        "colab": {
          "base_uri": "https://localhost:8080/",
          "height": 979
        }
      },
      "source": [
        "df.head(30)"
      ],
      "execution_count": 0,
      "outputs": [
        {
          "output_type": "execute_result",
          "data": {
            "text/html": [
              "<div>\n",
              "<style scoped>\n",
              "    .dataframe tbody tr th:only-of-type {\n",
              "        vertical-align: middle;\n",
              "    }\n",
              "\n",
              "    .dataframe tbody tr th {\n",
              "        vertical-align: top;\n",
              "    }\n",
              "\n",
              "    .dataframe thead th {\n",
              "        text-align: right;\n",
              "    }\n",
              "</style>\n",
              "<table border=\"1\" class=\"dataframe\">\n",
              "  <thead>\n",
              "    <tr style=\"text-align: right;\">\n",
              "      <th></th>\n",
              "      <th>geo</th>\n",
              "      <th>year</th>\n",
              "      <th>income</th>\n",
              "      <th>lifespan</th>\n",
              "      <th>population</th>\n",
              "      <th>country_code</th>\n",
              "      <th>country</th>\n",
              "      <th>4region</th>\n",
              "      <th>6region</th>\n",
              "    </tr>\n",
              "  </thead>\n",
              "  <tbody>\n",
              "    <tr>\n",
              "      <th>0</th>\n",
              "      <td>afg</td>\n",
              "      <td>1800</td>\n",
              "      <td>603</td>\n",
              "      <td>28.21</td>\n",
              "      <td>3280000</td>\n",
              "      <td>afg</td>\n",
              "      <td>Afghanistan</td>\n",
              "      <td>asia</td>\n",
              "      <td>south_asia</td>\n",
              "    </tr>\n",
              "    <tr>\n",
              "      <th>1</th>\n",
              "      <td>afg</td>\n",
              "      <td>1801</td>\n",
              "      <td>603</td>\n",
              "      <td>28.20</td>\n",
              "      <td>3280000</td>\n",
              "      <td>afg</td>\n",
              "      <td>Afghanistan</td>\n",
              "      <td>asia</td>\n",
              "      <td>south_asia</td>\n",
              "    </tr>\n",
              "    <tr>\n",
              "      <th>2</th>\n",
              "      <td>afg</td>\n",
              "      <td>1802</td>\n",
              "      <td>603</td>\n",
              "      <td>28.19</td>\n",
              "      <td>3280000</td>\n",
              "      <td>afg</td>\n",
              "      <td>Afghanistan</td>\n",
              "      <td>asia</td>\n",
              "      <td>south_asia</td>\n",
              "    </tr>\n",
              "    <tr>\n",
              "      <th>3</th>\n",
              "      <td>afg</td>\n",
              "      <td>1803</td>\n",
              "      <td>603</td>\n",
              "      <td>28.18</td>\n",
              "      <td>3280000</td>\n",
              "      <td>afg</td>\n",
              "      <td>Afghanistan</td>\n",
              "      <td>asia</td>\n",
              "      <td>south_asia</td>\n",
              "    </tr>\n",
              "    <tr>\n",
              "      <th>4</th>\n",
              "      <td>afg</td>\n",
              "      <td>1804</td>\n",
              "      <td>603</td>\n",
              "      <td>28.17</td>\n",
              "      <td>3280000</td>\n",
              "      <td>afg</td>\n",
              "      <td>Afghanistan</td>\n",
              "      <td>asia</td>\n",
              "      <td>south_asia</td>\n",
              "    </tr>\n",
              "    <tr>\n",
              "      <th>5</th>\n",
              "      <td>afg</td>\n",
              "      <td>1805</td>\n",
              "      <td>603</td>\n",
              "      <td>28.16</td>\n",
              "      <td>3280000</td>\n",
              "      <td>afg</td>\n",
              "      <td>Afghanistan</td>\n",
              "      <td>asia</td>\n",
              "      <td>south_asia</td>\n",
              "    </tr>\n",
              "    <tr>\n",
              "      <th>6</th>\n",
              "      <td>afg</td>\n",
              "      <td>1806</td>\n",
              "      <td>603</td>\n",
              "      <td>28.15</td>\n",
              "      <td>3280000</td>\n",
              "      <td>afg</td>\n",
              "      <td>Afghanistan</td>\n",
              "      <td>asia</td>\n",
              "      <td>south_asia</td>\n",
              "    </tr>\n",
              "    <tr>\n",
              "      <th>7</th>\n",
              "      <td>afg</td>\n",
              "      <td>1807</td>\n",
              "      <td>603</td>\n",
              "      <td>28.14</td>\n",
              "      <td>3280000</td>\n",
              "      <td>afg</td>\n",
              "      <td>Afghanistan</td>\n",
              "      <td>asia</td>\n",
              "      <td>south_asia</td>\n",
              "    </tr>\n",
              "    <tr>\n",
              "      <th>8</th>\n",
              "      <td>afg</td>\n",
              "      <td>1808</td>\n",
              "      <td>603</td>\n",
              "      <td>28.13</td>\n",
              "      <td>3280000</td>\n",
              "      <td>afg</td>\n",
              "      <td>Afghanistan</td>\n",
              "      <td>asia</td>\n",
              "      <td>south_asia</td>\n",
              "    </tr>\n",
              "    <tr>\n",
              "      <th>9</th>\n",
              "      <td>afg</td>\n",
              "      <td>1809</td>\n",
              "      <td>603</td>\n",
              "      <td>28.12</td>\n",
              "      <td>3280000</td>\n",
              "      <td>afg</td>\n",
              "      <td>Afghanistan</td>\n",
              "      <td>asia</td>\n",
              "      <td>south_asia</td>\n",
              "    </tr>\n",
              "    <tr>\n",
              "      <th>10</th>\n",
              "      <td>afg</td>\n",
              "      <td>1810</td>\n",
              "      <td>604</td>\n",
              "      <td>28.11</td>\n",
              "      <td>3280000</td>\n",
              "      <td>afg</td>\n",
              "      <td>Afghanistan</td>\n",
              "      <td>asia</td>\n",
              "      <td>south_asia</td>\n",
              "    </tr>\n",
              "    <tr>\n",
              "      <th>11</th>\n",
              "      <td>afg</td>\n",
              "      <td>1811</td>\n",
              "      <td>604</td>\n",
              "      <td>28.10</td>\n",
              "      <td>3280779</td>\n",
              "      <td>afg</td>\n",
              "      <td>Afghanistan</td>\n",
              "      <td>asia</td>\n",
              "      <td>south_asia</td>\n",
              "    </tr>\n",
              "    <tr>\n",
              "      <th>12</th>\n",
              "      <td>afg</td>\n",
              "      <td>1812</td>\n",
              "      <td>604</td>\n",
              "      <td>28.09</td>\n",
              "      <td>3282342</td>\n",
              "      <td>afg</td>\n",
              "      <td>Afghanistan</td>\n",
              "      <td>asia</td>\n",
              "      <td>south_asia</td>\n",
              "    </tr>\n",
              "    <tr>\n",
              "      <th>13</th>\n",
              "      <td>afg</td>\n",
              "      <td>1813</td>\n",
              "      <td>604</td>\n",
              "      <td>28.08</td>\n",
              "      <td>3284692</td>\n",
              "      <td>afg</td>\n",
              "      <td>Afghanistan</td>\n",
              "      <td>asia</td>\n",
              "      <td>south_asia</td>\n",
              "    </tr>\n",
              "    <tr>\n",
              "      <th>14</th>\n",
              "      <td>afg</td>\n",
              "      <td>1814</td>\n",
              "      <td>604</td>\n",
              "      <td>28.07</td>\n",
              "      <td>3287834</td>\n",
              "      <td>afg</td>\n",
              "      <td>Afghanistan</td>\n",
              "      <td>asia</td>\n",
              "      <td>south_asia</td>\n",
              "    </tr>\n",
              "    <tr>\n",
              "      <th>15</th>\n",
              "      <td>afg</td>\n",
              "      <td>1815</td>\n",
              "      <td>604</td>\n",
              "      <td>28.06</td>\n",
              "      <td>3291770</td>\n",
              "      <td>afg</td>\n",
              "      <td>Afghanistan</td>\n",
              "      <td>asia</td>\n",
              "      <td>south_asia</td>\n",
              "    </tr>\n",
              "    <tr>\n",
              "      <th>16</th>\n",
              "      <td>afg</td>\n",
              "      <td>1816</td>\n",
              "      <td>604</td>\n",
              "      <td>28.05</td>\n",
              "      <td>3296506</td>\n",
              "      <td>afg</td>\n",
              "      <td>Afghanistan</td>\n",
              "      <td>asia</td>\n",
              "      <td>south_asia</td>\n",
              "    </tr>\n",
              "    <tr>\n",
              "      <th>17</th>\n",
              "      <td>afg</td>\n",
              "      <td>1817</td>\n",
              "      <td>604</td>\n",
              "      <td>28.04</td>\n",
              "      <td>3302044</td>\n",
              "      <td>afg</td>\n",
              "      <td>Afghanistan</td>\n",
              "      <td>asia</td>\n",
              "      <td>south_asia</td>\n",
              "    </tr>\n",
              "    <tr>\n",
              "      <th>18</th>\n",
              "      <td>afg</td>\n",
              "      <td>1818</td>\n",
              "      <td>604</td>\n",
              "      <td>28.03</td>\n",
              "      <td>3308390</td>\n",
              "      <td>afg</td>\n",
              "      <td>Afghanistan</td>\n",
              "      <td>asia</td>\n",
              "      <td>south_asia</td>\n",
              "    </tr>\n",
              "    <tr>\n",
              "      <th>19</th>\n",
              "      <td>afg</td>\n",
              "      <td>1819</td>\n",
              "      <td>604</td>\n",
              "      <td>28.02</td>\n",
              "      <td>3315547</td>\n",
              "      <td>afg</td>\n",
              "      <td>Afghanistan</td>\n",
              "      <td>asia</td>\n",
              "      <td>south_asia</td>\n",
              "    </tr>\n",
              "    <tr>\n",
              "      <th>20</th>\n",
              "      <td>afg</td>\n",
              "      <td>1820</td>\n",
              "      <td>604</td>\n",
              "      <td>28.01</td>\n",
              "      <td>3323519</td>\n",
              "      <td>afg</td>\n",
              "      <td>Afghanistan</td>\n",
              "      <td>asia</td>\n",
              "      <td>south_asia</td>\n",
              "    </tr>\n",
              "    <tr>\n",
              "      <th>21</th>\n",
              "      <td>afg</td>\n",
              "      <td>1821</td>\n",
              "      <td>607</td>\n",
              "      <td>28.00</td>\n",
              "      <td>3332311</td>\n",
              "      <td>afg</td>\n",
              "      <td>Afghanistan</td>\n",
              "      <td>asia</td>\n",
              "      <td>south_asia</td>\n",
              "    </tr>\n",
              "    <tr>\n",
              "      <th>22</th>\n",
              "      <td>afg</td>\n",
              "      <td>1822</td>\n",
              "      <td>609</td>\n",
              "      <td>27.99</td>\n",
              "      <td>3341926</td>\n",
              "      <td>afg</td>\n",
              "      <td>Afghanistan</td>\n",
              "      <td>asia</td>\n",
              "      <td>south_asia</td>\n",
              "    </tr>\n",
              "    <tr>\n",
              "      <th>23</th>\n",
              "      <td>afg</td>\n",
              "      <td>1823</td>\n",
              "      <td>611</td>\n",
              "      <td>27.98</td>\n",
              "      <td>3352368</td>\n",
              "      <td>afg</td>\n",
              "      <td>Afghanistan</td>\n",
              "      <td>asia</td>\n",
              "      <td>south_asia</td>\n",
              "    </tr>\n",
              "    <tr>\n",
              "      <th>24</th>\n",
              "      <td>afg</td>\n",
              "      <td>1824</td>\n",
              "      <td>613</td>\n",
              "      <td>27.97</td>\n",
              "      <td>3363642</td>\n",
              "      <td>afg</td>\n",
              "      <td>Afghanistan</td>\n",
              "      <td>asia</td>\n",
              "      <td>south_asia</td>\n",
              "    </tr>\n",
              "    <tr>\n",
              "      <th>25</th>\n",
              "      <td>afg</td>\n",
              "      <td>1825</td>\n",
              "      <td>615</td>\n",
              "      <td>27.95</td>\n",
              "      <td>3375751</td>\n",
              "      <td>afg</td>\n",
              "      <td>Afghanistan</td>\n",
              "      <td>asia</td>\n",
              "      <td>south_asia</td>\n",
              "    </tr>\n",
              "    <tr>\n",
              "      <th>26</th>\n",
              "      <td>afg</td>\n",
              "      <td>1826</td>\n",
              "      <td>617</td>\n",
              "      <td>27.94</td>\n",
              "      <td>3388701</td>\n",
              "      <td>afg</td>\n",
              "      <td>Afghanistan</td>\n",
              "      <td>asia</td>\n",
              "      <td>south_asia</td>\n",
              "    </tr>\n",
              "    <tr>\n",
              "      <th>27</th>\n",
              "      <td>afg</td>\n",
              "      <td>1827</td>\n",
              "      <td>619</td>\n",
              "      <td>27.93</td>\n",
              "      <td>3402494</td>\n",
              "      <td>afg</td>\n",
              "      <td>Afghanistan</td>\n",
              "      <td>asia</td>\n",
              "      <td>south_asia</td>\n",
              "    </tr>\n",
              "    <tr>\n",
              "      <th>28</th>\n",
              "      <td>afg</td>\n",
              "      <td>1828</td>\n",
              "      <td>621</td>\n",
              "      <td>27.92</td>\n",
              "      <td>3417136</td>\n",
              "      <td>afg</td>\n",
              "      <td>Afghanistan</td>\n",
              "      <td>asia</td>\n",
              "      <td>south_asia</td>\n",
              "    </tr>\n",
              "    <tr>\n",
              "      <th>29</th>\n",
              "      <td>afg</td>\n",
              "      <td>1829</td>\n",
              "      <td>623</td>\n",
              "      <td>27.91</td>\n",
              "      <td>3432630</td>\n",
              "      <td>afg</td>\n",
              "      <td>Afghanistan</td>\n",
              "      <td>asia</td>\n",
              "      <td>south_asia</td>\n",
              "    </tr>\n",
              "  </tbody>\n",
              "</table>\n",
              "</div>"
            ],
            "text/plain": [
              "    geo  year  income  lifespan  ...  country_code      country 4region     6region\n",
              "0   afg  1800     603     28.21  ...           afg  Afghanistan    asia  south_asia\n",
              "1   afg  1801     603     28.20  ...           afg  Afghanistan    asia  south_asia\n",
              "2   afg  1802     603     28.19  ...           afg  Afghanistan    asia  south_asia\n",
              "3   afg  1803     603     28.18  ...           afg  Afghanistan    asia  south_asia\n",
              "4   afg  1804     603     28.17  ...           afg  Afghanistan    asia  south_asia\n",
              "5   afg  1805     603     28.16  ...           afg  Afghanistan    asia  south_asia\n",
              "6   afg  1806     603     28.15  ...           afg  Afghanistan    asia  south_asia\n",
              "7   afg  1807     603     28.14  ...           afg  Afghanistan    asia  south_asia\n",
              "8   afg  1808     603     28.13  ...           afg  Afghanistan    asia  south_asia\n",
              "9   afg  1809     603     28.12  ...           afg  Afghanistan    asia  south_asia\n",
              "10  afg  1810     604     28.11  ...           afg  Afghanistan    asia  south_asia\n",
              "11  afg  1811     604     28.10  ...           afg  Afghanistan    asia  south_asia\n",
              "12  afg  1812     604     28.09  ...           afg  Afghanistan    asia  south_asia\n",
              "13  afg  1813     604     28.08  ...           afg  Afghanistan    asia  south_asia\n",
              "14  afg  1814     604     28.07  ...           afg  Afghanistan    asia  south_asia\n",
              "15  afg  1815     604     28.06  ...           afg  Afghanistan    asia  south_asia\n",
              "16  afg  1816     604     28.05  ...           afg  Afghanistan    asia  south_asia\n",
              "17  afg  1817     604     28.04  ...           afg  Afghanistan    asia  south_asia\n",
              "18  afg  1818     604     28.03  ...           afg  Afghanistan    asia  south_asia\n",
              "19  afg  1819     604     28.02  ...           afg  Afghanistan    asia  south_asia\n",
              "20  afg  1820     604     28.01  ...           afg  Afghanistan    asia  south_asia\n",
              "21  afg  1821     607     28.00  ...           afg  Afghanistan    asia  south_asia\n",
              "22  afg  1822     609     27.99  ...           afg  Afghanistan    asia  south_asia\n",
              "23  afg  1823     611     27.98  ...           afg  Afghanistan    asia  south_asia\n",
              "24  afg  1824     613     27.97  ...           afg  Afghanistan    asia  south_asia\n",
              "25  afg  1825     615     27.95  ...           afg  Afghanistan    asia  south_asia\n",
              "26  afg  1826     617     27.94  ...           afg  Afghanistan    asia  south_asia\n",
              "27  afg  1827     619     27.93  ...           afg  Afghanistan    asia  south_asia\n",
              "28  afg  1828     621     27.92  ...           afg  Afghanistan    asia  south_asia\n",
              "29  afg  1829     623     27.91  ...           afg  Afghanistan    asia  south_asia\n",
              "\n",
              "[30 rows x 9 columns]"
            ]
          },
          "metadata": {
            "tags": []
          },
          "execution_count": 11
        }
      ]
    },
    {
      "cell_type": "code",
      "metadata": {
        "id": "BawfzF1sLqHu",
        "colab_type": "code",
        "colab": {}
      },
      "source": [
        "def New_Column (df):\n",
        "  if df['6region'] == 'sub_saharan_africa':\n",
        "    return 1\n",
        "  if df['6region'] == 'east_asia_pacific':\n",
        "    return 4\n",
        "  if df['6region'] == 'south_asia':\n",
        "    return 2\n",
        "  if df['6region'] == 'middle_east_north_africa':\n",
        "    return 5\n",
        "  if df['6region'] == 'america':\n",
        "    return 3\n",
        "  if df['6region'] == 'europe_central_asia':\n",
        "    return 6"
      ],
      "execution_count": 0,
      "outputs": []
    },
    {
      "cell_type": "code",
      "metadata": {
        "id": "Vyki1KuhMfh_",
        "colab_type": "code",
        "colab": {}
      },
      "source": [
        "df['row_order'] = df.apply (lambda row: New_Column(row), axis=1)"
      ],
      "execution_count": 0,
      "outputs": []
    },
    {
      "cell_type": "code",
      "metadata": {
        "id": "3b9uwWcwBke9",
        "colab_type": "code",
        "colab": {}
      },
      "source": [
        "five = df[df.year == 2018]\n",
        "four = df[df.year == 1968]\n",
        "two = df[df.year == 1868]\n",
        "one = df[df.year == 1818]\n",
        "three = df[df.year == 1918]\n"
      ],
      "execution_count": 0,
      "outputs": []
    },
    {
      "cell_type": "code",
      "metadata": {
        "id": "9fEeHFTJDqTG",
        "colab_type": "code",
        "colab": {}
      },
      "source": [
        "def years_of_use (paras):\n",
        "  for para in paras:\n",
        "    return paras.groupby('6region', as_index=False)['income'].mean()"
      ],
      "execution_count": 0,
      "outputs": []
    },
    {
      "cell_type": "code",
      "metadata": {
        "id": "GlBmFcI-I8yL",
        "colab_type": "code",
        "colab": {}
      },
      "source": [
        "five = years_of_use(five)\n",
        "five['row_order'] = five.apply (lambda row: New_Column(row), axis=1)\n",
        "five = five.sort_values(by='row_order')\n",
        "\n",
        "four = years_of_use(four)\n",
        "four['row_order'] = four.apply (lambda row: New_Column(row), axis=1)\n",
        "four = four.sort_values(by='row_order')\n",
        "\n",
        "three = years_of_use(three)\n",
        "three['row_order'] = three.apply (lambda row: New_Column(row), axis=1)\n",
        "three = three.sort_values(by='row_order')\n",
        "\n",
        "three = years_of_use(three)\n",
        "three['row_order'] = three.apply (lambda row: New_Column(row), axis=1)\n",
        "three = three.sort_values(by='row_order')\n",
        "\n",
        "two = years_of_use(two)\n",
        "two['row_order'] = two.apply (lambda row: New_Column(row), axis=1)\n",
        "two = two.sort_values(by='row_order')\n",
        "\n",
        "one = years_of_use(one)\n",
        "one['row_order'] = one.apply (lambda row: New_Column(row), axis=1)\n",
        "one = one.sort_values(by='row_order')"
      ],
      "execution_count": 0,
      "outputs": []
    },
    {
      "cell_type": "code",
      "metadata": {
        "id": "qfgLYb12gAWd",
        "colab_type": "code",
        "outputId": "95d9a00f-8749-4b5c-fe80-8346537b8b31",
        "colab": {
          "base_uri": "https://localhost:8080/",
          "height": 235
        }
      },
      "source": [
        "five = five.sort_values(by='row_order')\n",
        "five"
      ],
      "execution_count": 0,
      "outputs": [
        {
          "output_type": "execute_result",
          "data": {
            "text/html": [
              "<div>\n",
              "<style scoped>\n",
              "    .dataframe tbody tr th:only-of-type {\n",
              "        vertical-align: middle;\n",
              "    }\n",
              "\n",
              "    .dataframe tbody tr th {\n",
              "        vertical-align: top;\n",
              "    }\n",
              "\n",
              "    .dataframe thead th {\n",
              "        text-align: right;\n",
              "    }\n",
              "</style>\n",
              "<table border=\"1\" class=\"dataframe\">\n",
              "  <thead>\n",
              "    <tr style=\"text-align: right;\">\n",
              "      <th></th>\n",
              "      <th>6region</th>\n",
              "      <th>income</th>\n",
              "      <th>row_order</th>\n",
              "    </tr>\n",
              "  </thead>\n",
              "  <tbody>\n",
              "    <tr>\n",
              "      <th>5</th>\n",
              "      <td>sub_saharan_africa</td>\n",
              "      <td>4795.625000</td>\n",
              "      <td>1</td>\n",
              "    </tr>\n",
              "    <tr>\n",
              "      <th>4</th>\n",
              "      <td>south_asia</td>\n",
              "      <td>6927.375000</td>\n",
              "      <td>2</td>\n",
              "    </tr>\n",
              "    <tr>\n",
              "      <th>0</th>\n",
              "      <td>america</td>\n",
              "      <td>15926.090909</td>\n",
              "      <td>3</td>\n",
              "    </tr>\n",
              "    <tr>\n",
              "      <th>1</th>\n",
              "      <td>east_asia_pacific</td>\n",
              "      <td>18091.153846</td>\n",
              "      <td>4</td>\n",
              "    </tr>\n",
              "    <tr>\n",
              "      <th>3</th>\n",
              "      <td>middle_east_north_africa</td>\n",
              "      <td>27664.150000</td>\n",
              "      <td>5</td>\n",
              "    </tr>\n",
              "    <tr>\n",
              "      <th>2</th>\n",
              "      <td>europe_central_asia</td>\n",
              "      <td>29841.591837</td>\n",
              "      <td>6</td>\n",
              "    </tr>\n",
              "  </tbody>\n",
              "</table>\n",
              "</div>"
            ],
            "text/plain": [
              "                    6region        income  row_order\n",
              "5        sub_saharan_africa   4795.625000          1\n",
              "4                south_asia   6927.375000          2\n",
              "0                   america  15926.090909          3\n",
              "1         east_asia_pacific  18091.153846          4\n",
              "3  middle_east_north_africa  27664.150000          5\n",
              "2       europe_central_asia  29841.591837          6"
            ]
          },
          "metadata": {
            "tags": []
          },
          "execution_count": 21
        }
      ]
    },
    {
      "cell_type": "code",
      "metadata": {
        "id": "h7_qMOOCC-OD",
        "colab_type": "code",
        "outputId": "61bd32eb-0ffa-4b1d-aba6-8c69df4d4888",
        "colab": {
          "base_uri": "https://localhost:8080/",
          "height": 519
        }
      },
      "source": [
        "fig, ax = plt.subplots(nrows=1, ncols=2, figsize=(16,8))\n",
        "\n",
        "sns.set(style=\"whitegrid\")\n",
        "sns.barplot(x = '6region', y= 'income', data=five, ax=ax[0])\n",
        "plt.title(\"Average Income by Continent : 2018\")\n",
        "ax[0].set(ylim=(0, 30000))\n",
        "\n",
        "sns.set(style=\"whitegrid\")\n",
        "sns.barplot(x = '6region', y= 'income', data=four, ax=ax[1])\n",
        "plt.title(\"Average Income by Continent : 1968\")\n",
        "plt.ylim(0, 30000)\n",
        "plt.xlim();\n",
        "\n",
        "#rotate tick markers\n",
        "#ordering"
      ],
      "execution_count": 0,
      "outputs": [
        {
          "output_type": "display_data",
          "data": {
            "image/png": "[encoded data removed]",
            "text/plain": [
              "<Figure size 1152x576 with 2 Axes>"
            ]
          },
          "metadata": {
            "tags": []
          }
        }
      ]
    },
    {
      "cell_type": "code",
      "metadata": {
        "id": "WNIGte7jQpzu",
        "colab_type": "code",
        "outputId": "250cda86-04c7-4fed-dd24-9c67b78afe6d",
        "colab": {
          "base_uri": "https://localhost:8080/",
          "height": 519
        }
      },
      "source": [
        "fig, ax = plt.subplots(nrows=1, ncols=2, figsize=(16,8))\n",
        "\n",
        "sns.set(style=\"whitegrid\")\n",
        "sns.barplot(x='6region', y='income', data=three, ax=ax[0])\n",
        "plt.title(\"Average Income by Continent: 1918\")\n",
        "ax[0].set(ylim=(0, 30000))\n",
        "plt.xlim();\n",
        "\n",
        "sns.set(style=\"whitegrid\")\n",
        "sns.barplot(x = '6region', y= 'income', data=two, ax=ax[1])\n",
        "plt.title(\"Average Income by Continent: 1868\")\n",
        "plt.ylim(0, 30000)\n",
        "plt.xlim();"
      ],
      "execution_count": 0,
      "outputs": [
        {
          "output_type": "display_data",
          "data": {
            "image/png": "[encoded data removed]",
            "text/plain": [
              "<Figure size 1152x576 with 2 Axes>"
            ]
          },
          "metadata": {
            "tags": []
          }
        }
      ]
    },
    {
      "cell_type": "code",
      "metadata": {
        "id": "XKeN6MOtl1-b",
        "colab_type": "code",
        "colab": {}
      },
      "source": [
        "years = [1818, 1868, 1918, 2018]\n",
        "centuries = df[df.year.isin(years)]\n",
        "\n",
        "centuries.head()"
      ],
      "execution_count": 0,
      "outputs": []
    },
    {
      "cell_type": "markdown",
      "metadata": {
        "id": "PKjJTQXI3qGI",
        "colab_type": "text"
      },
      "source": [
        "# STRETCH OPTIONS\n",
        "\n",
        "## 1. Animate!\n",
        "\n",
        "- [How to Create Animated Graphs in Python](https://towardsdatascience.com/how-to-create-animated-graphs-in-python-bb619cc2dec1)\n",
        "- Try using [Plotly](https://plot.ly/python/animations/)!\n",
        "- [The Ultimate Day of Chicago Bikeshare](https://chrisluedtke.github.io/divvy-data.html) (Lambda School Data Science student)\n",
        "- [Using Phoebe for animations in Google Colab](https://colab.research.google.com/github/phoebe-project/phoebe2-docs/blob/2.1/tutorials/animations.ipynb)\n",
        "\n",
        "## 2. Study for the Sprint Challenge\n",
        "\n",
        "- Concatenate DataFrames\n",
        "- Merge DataFrames\n",
        "- Reshape data with `pivot_table()` and `.melt()`\n",
        "- Be able to reproduce a FiveThirtyEight graph using Matplotlib or Seaborn.\n",
        "\n",
        "## 3. Work on anything related to your portfolio site / Data Storytelling Project"
      ]
    },
    {
      "cell_type": "code",
      "metadata": {
        "id": "7lLHHhW0z0vf",
        "colab_type": "code",
        "colab": {}
      },
      "source": [
        "# TODO"
      ],
      "execution_count": 0,
      "outputs": []
    }
  ]
}